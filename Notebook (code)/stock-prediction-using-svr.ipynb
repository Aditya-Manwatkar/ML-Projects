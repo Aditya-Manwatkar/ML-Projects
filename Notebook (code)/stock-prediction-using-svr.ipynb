{
 "cells": [
  {
   "cell_type": "markdown",
   "metadata": {},
   "source": [
    " "
   ]
  },
  {
   "cell_type": "markdown",
   "metadata": {},
   "source": [
    
    "###Write an Algorithm for Stock Price Prediction using Support Vector Regression (SVR)"
   ]
  },
  {
   "cell_type": "markdown",
   "metadata": {},
   "source": [
    "#### *Importing Libraries*"
   ]
  },
  {
   "cell_type": "code",
   "execution_count": 65,
   "metadata": {
    "execution": {
     "iopub.execute_input": "2022-01-09T22:16:38.415771Z",
     "iopub.status.busy": "2022-01-09T22:16:38.415285Z",
     "iopub.status.idle": "2022-01-09T22:16:38.438342Z",
     "shell.execute_reply": "2022-01-09T22:16:38.437004Z",
     "shell.execute_reply.started": "2022-01-09T22:16:38.41572Z"
    }
   },
   "outputs": [],
   "source": [
    "import pandas as pd\n",
    "import numpy as np\n",
    "from sklearn import preprocessing\n",
    "from sklearn.model_selection import train_test_split\n",
    "from sklearn.linear_model import LinearRegression\n",
    "from sklearn.svm import SVR\n",
    "import matplotlib.pyplot as plt\n",
    "plt.style.use('seaborn-darkgrid')"
   ]
  },
  {
   "cell_type": "markdown",
   "metadata": {},
   "source": [
    "#### *Loading Dataset*"
   ]
  },
  {
   "cell_type": "code",
   "execution_count": 66,
   "metadata": {
    "execution": {
     "iopub.execute_input": "2022-01-09T22:16:38.440551Z",
     "iopub.status.busy": "2022-01-09T22:16:38.440038Z",
     "iopub.status.idle": "2022-01-09T22:16:38.477047Z",
     "shell.execute_reply": "2022-01-09T22:16:38.475984Z",
     "shell.execute_reply.started": "2022-01-09T22:16:38.44051Z"
    }
   },
   "outputs": [],
   "source": [
    "df = pd.read_csv('NSEI.csv')"
   ]
  },
  {
   "cell_type": "code",
   "execution_count": 67,
   "metadata": {},
   "outputs": [
    {
     "data": {
      "text/html": [
       "<div>\n",
       "<style scoped>\n",
       "    .dataframe tbody tr th:only-of-type {\n",
       "        vertical-align: middle;\n",
       "    }\n",
       "\n",
       "    .dataframe tbody tr th {\n",
       "        vertical-align: top;\n",
       "    }\n",
       "\n",
       "    .dataframe thead th {\n",
       "        text-align: right;\n",
       "    }\n",
       "</style>\n",
       "<table border=\"1\" class=\"dataframe\">\n",
       "  <thead>\n",
       "    <tr style=\"text-align: right;\">\n",
       "      <th></th>\n",
       "      <th>Date</th>\n",
       "      <th>Open</th>\n",
       "      <th>High</th>\n",
       "      <th>Low</th>\n",
       "      <th>Close</th>\n",
       "      <th>Adj Close</th>\n",
       "      <th>Volume</th>\n",
       "    </tr>\n",
       "  </thead>\n",
       "  <tbody>\n",
       "    <tr>\n",
       "      <th>0</th>\n",
       "      <td>2022-10-18</td>\n",
       "      <td>17438.750000</td>\n",
       "      <td>17527.800781</td>\n",
       "      <td>17434.050781</td>\n",
       "      <td>17486.949219</td>\n",
       "      <td>17486.949219</td>\n",
       "      <td>239500</td>\n",
       "    </tr>\n",
       "    <tr>\n",
       "      <th>1</th>\n",
       "      <td>2022-10-19</td>\n",
       "      <td>17568.150391</td>\n",
       "      <td>17607.599609</td>\n",
       "      <td>17472.849609</td>\n",
       "      <td>17512.250000</td>\n",
       "      <td>17512.250000</td>\n",
       "      <td>210500</td>\n",
       "    </tr>\n",
       "    <tr>\n",
       "      <th>2</th>\n",
       "      <td>2022-10-20</td>\n",
       "      <td>17423.099609</td>\n",
       "      <td>17584.150391</td>\n",
       "      <td>17421.000000</td>\n",
       "      <td>17563.949219</td>\n",
       "      <td>17563.949219</td>\n",
       "      <td>249600</td>\n",
       "    </tr>\n",
       "    <tr>\n",
       "      <th>3</th>\n",
       "      <td>2022-10-21</td>\n",
       "      <td>17622.849609</td>\n",
       "      <td>17670.150391</td>\n",
       "      <td>17520.750000</td>\n",
       "      <td>17576.300781</td>\n",
       "      <td>17576.300781</td>\n",
       "      <td>277700</td>\n",
       "    </tr>\n",
       "    <tr>\n",
       "      <th>4</th>\n",
       "      <td>2022-10-24</td>\n",
       "      <td>17736.349609</td>\n",
       "      <td>17777.550781</td>\n",
       "      <td>17707.400391</td>\n",
       "      <td>17730.750000</td>\n",
       "      <td>17730.750000</td>\n",
       "      <td>45000</td>\n",
       "    </tr>\n",
       "  </tbody>\n",
       "</table>\n",
       "</div>"
      ],
      "text/plain": [
       "         Date          Open          High           Low         Close  \\\n",
       "0  2022-10-18  17438.750000  17527.800781  17434.050781  17486.949219   \n",
       "1  2022-10-19  17568.150391  17607.599609  17472.849609  17512.250000   \n",
       "2  2022-10-20  17423.099609  17584.150391  17421.000000  17563.949219   \n",
       "3  2022-10-21  17622.849609  17670.150391  17520.750000  17576.300781   \n",
       "4  2022-10-24  17736.349609  17777.550781  17707.400391  17730.750000   \n",
       "\n",
       "      Adj Close  Volume  \n",
       "0  17486.949219  239500  \n",
       "1  17512.250000  210500  \n",
       "2  17563.949219  249600  \n",
       "3  17576.300781  277700  \n",
       "4  17730.750000   45000  "
      ]
     },
     "execution_count": 67,
     "metadata": {},
     "output_type": "execute_result"
    }
   ],
   "source": [
    "df.head()"
   ]
  },
  {
   "cell_type": "code",
   "execution_count": 68,
   "metadata": {},
   "outputs": [
    {
     "data": {
      "text/html": [
       "<div>\n",
       "<style scoped>\n",
       "    .dataframe tbody tr th:only-of-type {\n",
       "        vertical-align: middle;\n",
       "    }\n",
       "\n",
       "    .dataframe tbody tr th {\n",
       "        vertical-align: top;\n",
       "    }\n",
       "\n",
       "    .dataframe thead th {\n",
       "        text-align: right;\n",
       "    }\n",
       "</style>\n",
       "<table border=\"1\" class=\"dataframe\">\n",
       "  <thead>\n",
       "    <tr style=\"text-align: right;\">\n",
       "      <th></th>\n",
       "      <th>Date</th>\n",
       "      <th>Open</th>\n",
       "      <th>High</th>\n",
       "      <th>Low</th>\n",
       "      <th>Close</th>\n",
       "      <th>Adj Close</th>\n",
       "      <th>Volume</th>\n",
       "    </tr>\n",
       "  </thead>\n",
       "  <tbody>\n",
       "    <tr>\n",
       "      <th>244</th>\n",
       "      <td>2023-10-12</td>\n",
       "      <td>19822.699219</td>\n",
       "      <td>19843.300781</td>\n",
       "      <td>19772.650391</td>\n",
       "      <td>19794.000000</td>\n",
       "      <td>19794.000000</td>\n",
       "      <td>217900</td>\n",
       "    </tr>\n",
       "    <tr>\n",
       "      <th>245</th>\n",
       "      <td>2023-10-13</td>\n",
       "      <td>19654.550781</td>\n",
       "      <td>19805.400391</td>\n",
       "      <td>19635.300781</td>\n",
       "      <td>19751.050781</td>\n",
       "      <td>19751.050781</td>\n",
       "      <td>255000</td>\n",
       "    </tr>\n",
       "    <tr>\n",
       "      <th>246</th>\n",
       "      <td>2023-10-16</td>\n",
       "      <td>19737.250000</td>\n",
       "      <td>19781.300781</td>\n",
       "      <td>19691.849609</td>\n",
       "      <td>19731.750000</td>\n",
       "      <td>19731.750000</td>\n",
       "      <td>181000</td>\n",
       "    </tr>\n",
       "    <tr>\n",
       "      <th>247</th>\n",
       "      <td>2023-10-17</td>\n",
       "      <td>19843.199219</td>\n",
       "      <td>19849.750000</td>\n",
       "      <td>19775.650391</td>\n",
       "      <td>19811.500000</td>\n",
       "      <td>19811.500000</td>\n",
       "      <td>185800</td>\n",
       "    </tr>\n",
       "    <tr>\n",
       "      <th>248</th>\n",
       "      <td>2023-10-18</td>\n",
       "      <td>19820.449219</td>\n",
       "      <td>19840.949219</td>\n",
       "      <td>19659.949219</td>\n",
       "      <td>19671.099609</td>\n",
       "      <td>19671.099609</td>\n",
       "      <td>0</td>\n",
       "    </tr>\n",
       "  </tbody>\n",
       "</table>\n",
       "</div>"
      ],
      "text/plain": [
       "           Date          Open          High           Low         Close  \\\n",
       "244  2023-10-12  19822.699219  19843.300781  19772.650391  19794.000000   \n",
       "245  2023-10-13  19654.550781  19805.400391  19635.300781  19751.050781   \n",
       "246  2023-10-16  19737.250000  19781.300781  19691.849609  19731.750000   \n",
       "247  2023-10-17  19843.199219  19849.750000  19775.650391  19811.500000   \n",
       "248  2023-10-18  19820.449219  19840.949219  19659.949219  19671.099609   \n",
       "\n",
       "        Adj Close  Volume  \n",
       "244  19794.000000  217900  \n",
       "245  19751.050781  255000  \n",
       "246  19731.750000  181000  \n",
       "247  19811.500000  185800  \n",
       "248  19671.099609       0  "
      ]
     },
     "execution_count": 68,
     "metadata": {},
     "output_type": "execute_result"
    }
   ],
   "source": [
    "df.tail()"
   ]
  },
  {
   "cell_type": "code",
   "execution_count": 69,
   "metadata": {},
   "outputs": [
    {
     "data": {
      "text/html": [
       "<div>\n",
       "<style scoped>\n",
       "    .dataframe tbody tr th:only-of-type {\n",
       "        vertical-align: middle;\n",
       "    }\n",
       "\n",
       "    .dataframe tbody tr th {\n",
       "        vertical-align: top;\n",
       "    }\n",
       "\n",
       "    .dataframe thead th {\n",
       "        text-align: right;\n",
       "    }\n",
       "</style>\n",
       "<table border=\"1\" class=\"dataframe\">\n",
       "  <thead>\n",
       "    <tr style=\"text-align: right;\">\n",
       "      <th></th>\n",
       "      <th>Open</th>\n",
       "      <th>High</th>\n",
       "      <th>Low</th>\n",
       "      <th>Close</th>\n",
       "      <th>Adj Close</th>\n",
       "      <th>Volume</th>\n",
       "    </tr>\n",
       "  </thead>\n",
       "  <tbody>\n",
       "    <tr>\n",
       "      <th>count</th>\n",
       "      <td>249.000000</td>\n",
       "      <td>249.000000</td>\n",
       "      <td>249.000000</td>\n",
       "      <td>249.000000</td>\n",
       "      <td>249.000000</td>\n",
       "      <td>249.000000</td>\n",
       "    </tr>\n",
       "    <tr>\n",
       "      <th>mean</th>\n",
       "      <td>18523.768072</td>\n",
       "      <td>18585.827639</td>\n",
       "      <td>18432.608191</td>\n",
       "      <td>18512.627157</td>\n",
       "      <td>18512.627157</td>\n",
       "      <td>257754.618474</td>\n",
       "    </tr>\n",
       "    <tr>\n",
       "      <th>std</th>\n",
       "      <td>831.437041</td>\n",
       "      <td>827.368717</td>\n",
       "      <td>842.513851</td>\n",
       "      <td>836.657649</td>\n",
       "      <td>836.657649</td>\n",
       "      <td>74689.726946</td>\n",
       "    </tr>\n",
       "    <tr>\n",
       "      <th>min</th>\n",
       "      <td>16977.300781</td>\n",
       "      <td>17061.750000</td>\n",
       "      <td>16828.349609</td>\n",
       "      <td>16945.050781</td>\n",
       "      <td>16945.050781</td>\n",
       "      <td>0.000000</td>\n",
       "    </tr>\n",
       "    <tr>\n",
       "      <th>25%</th>\n",
       "      <td>17867.500000</td>\n",
       "      <td>17945.800781</td>\n",
       "      <td>17779.500000</td>\n",
       "      <td>17858.199219</td>\n",
       "      <td>17858.199219</td>\n",
       "      <td>219200.000000</td>\n",
       "    </tr>\n",
       "    <tr>\n",
       "      <th>50%</th>\n",
       "      <td>18340.300781</td>\n",
       "      <td>18417.599609</td>\n",
       "      <td>18262.949219</td>\n",
       "      <td>18329.150391</td>\n",
       "      <td>18329.150391</td>\n",
       "      <td>248800.000000</td>\n",
       "    </tr>\n",
       "    <tr>\n",
       "      <th>75%</th>\n",
       "      <td>19405.949219</td>\n",
       "      <td>19457.800781</td>\n",
       "      <td>19317.199219</td>\n",
       "      <td>19386.699219</td>\n",
       "      <td>19386.699219</td>\n",
       "      <td>277700.000000</td>\n",
       "    </tr>\n",
       "    <tr>\n",
       "      <th>max</th>\n",
       "      <td>20156.449219</td>\n",
       "      <td>20222.449219</td>\n",
       "      <td>20129.699219</td>\n",
       "      <td>20192.349609</td>\n",
       "      <td>20192.349609</td>\n",
       "      <td>696500.000000</td>\n",
       "    </tr>\n",
       "  </tbody>\n",
       "</table>\n",
       "</div>"
      ],
      "text/plain": [
       "               Open          High           Low         Close     Adj Close  \\\n",
       "count    249.000000    249.000000    249.000000    249.000000    249.000000   \n",
       "mean   18523.768072  18585.827639  18432.608191  18512.627157  18512.627157   \n",
       "std      831.437041    827.368717    842.513851    836.657649    836.657649   \n",
       "min    16977.300781  17061.750000  16828.349609  16945.050781  16945.050781   \n",
       "25%    17867.500000  17945.800781  17779.500000  17858.199219  17858.199219   \n",
       "50%    18340.300781  18417.599609  18262.949219  18329.150391  18329.150391   \n",
       "75%    19405.949219  19457.800781  19317.199219  19386.699219  19386.699219   \n",
       "max    20156.449219  20222.449219  20129.699219  20192.349609  20192.349609   \n",
       "\n",
       "              Volume  \n",
       "count     249.000000  \n",
       "mean   257754.618474  \n",
       "std     74689.726946  \n",
       "min         0.000000  \n",
       "25%    219200.000000  \n",
       "50%    248800.000000  \n",
       "75%    277700.000000  \n",
       "max    696500.000000  "
      ]
     },
     "execution_count": 69,
     "metadata": {},
     "output_type": "execute_result"
    }
   ],
   "source": [
    "df.describe()"
   ]
  },
  {
   "cell_type": "markdown",
   "metadata": {},
   "source": [
    "#### *Taking the 1 month records from dataset as a training sample*"
   ]
  },
  {
   "cell_type": "code",
   "execution_count": 70,
   "metadata": {
    "execution": {
     "iopub.execute_input": "2022-01-09T22:16:38.478676Z",
     "iopub.status.busy": "2022-01-09T22:16:38.478378Z",
     "iopub.status.idle": "2022-01-09T22:16:38.488768Z",
     "shell.execute_reply": "2022-01-09T22:16:38.487521Z",
     "shell.execute_reply.started": "2022-01-09T22:16:38.478643Z"
    }
   },
   "outputs": [],
   "source": [
    "start_date = '2022-11-01'\n",
    "end_date = '2022-12-01'\n",
    "\n",
    "fill = (df ['Date']>=start_date) & (df ['Date']<=end_date)\n",
    "df = df .loc[fill]"
   ]
  },
  {
   "cell_type": "code",
   "execution_count": 71,
   "metadata": {},
   "outputs": [
    {
     "data": {
      "text/html": [
       "<div>\n",
       "<style scoped>\n",
       "    .dataframe tbody tr th:only-of-type {\n",
       "        vertical-align: middle;\n",
       "    }\n",
       "\n",
       "    .dataframe tbody tr th {\n",
       "        vertical-align: top;\n",
       "    }\n",
       "\n",
       "    .dataframe thead th {\n",
       "        text-align: right;\n",
       "    }\n",
       "</style>\n",
       "<table border=\"1\" class=\"dataframe\">\n",
       "  <thead>\n",
       "    <tr style=\"text-align: right;\">\n",
       "      <th></th>\n",
       "      <th>Date</th>\n",
       "      <th>Open</th>\n",
       "      <th>High</th>\n",
       "      <th>Low</th>\n",
       "      <th>Close</th>\n",
       "      <th>Adj Close</th>\n",
       "      <th>Volume</th>\n",
       "    </tr>\n",
       "  </thead>\n",
       "  <tbody>\n",
       "    <tr>\n",
       "      <th>9</th>\n",
       "      <td>2022-11-01</td>\n",
       "      <td>18130.699219</td>\n",
       "      <td>18175.800781</td>\n",
       "      <td>18060.150391</td>\n",
       "      <td>18145.400391</td>\n",
       "      <td>18145.400391</td>\n",
       "      <td>349900</td>\n",
       "    </tr>\n",
       "    <tr>\n",
       "      <th>10</th>\n",
       "      <td>2022-11-02</td>\n",
       "      <td>18177.900391</td>\n",
       "      <td>18178.750000</td>\n",
       "      <td>18048.650391</td>\n",
       "      <td>18082.849609</td>\n",
       "      <td>18082.849609</td>\n",
       "      <td>270900</td>\n",
       "    </tr>\n",
       "    <tr>\n",
       "      <th>11</th>\n",
       "      <td>2022-11-03</td>\n",
       "      <td>17968.349609</td>\n",
       "      <td>18106.300781</td>\n",
       "      <td>17959.199219</td>\n",
       "      <td>18052.699219</td>\n",
       "      <td>18052.699219</td>\n",
       "      <td>213000</td>\n",
       "    </tr>\n",
       "    <tr>\n",
       "      <th>12</th>\n",
       "      <td>2022-11-04</td>\n",
       "      <td>18053.400391</td>\n",
       "      <td>18135.099609</td>\n",
       "      <td>18017.150391</td>\n",
       "      <td>18117.150391</td>\n",
       "      <td>18117.150391</td>\n",
       "      <td>267900</td>\n",
       "    </tr>\n",
       "    <tr>\n",
       "      <th>13</th>\n",
       "      <td>2022-11-07</td>\n",
       "      <td>18211.750000</td>\n",
       "      <td>18255.500000</td>\n",
       "      <td>18064.750000</td>\n",
       "      <td>18202.800781</td>\n",
       "      <td>18202.800781</td>\n",
       "      <td>314800</td>\n",
       "    </tr>\n",
       "  </tbody>\n",
       "</table>\n",
       "</div>"
      ],
      "text/plain": [
       "          Date          Open          High           Low         Close  \\\n",
       "9   2022-11-01  18130.699219  18175.800781  18060.150391  18145.400391   \n",
       "10  2022-11-02  18177.900391  18178.750000  18048.650391  18082.849609   \n",
       "11  2022-11-03  17968.349609  18106.300781  17959.199219  18052.699219   \n",
       "12  2022-11-04  18053.400391  18135.099609  18017.150391  18117.150391   \n",
       "13  2022-11-07  18211.750000  18255.500000  18064.750000  18202.800781   \n",
       "\n",
       "       Adj Close  Volume  \n",
       "9   18145.400391  349900  \n",
       "10  18082.849609  270900  \n",
       "11  18052.699219  213000  \n",
       "12  18117.150391  267900  \n",
       "13  18202.800781  314800  "
      ]
     },
     "execution_count": 71,
     "metadata": {},
     "output_type": "execute_result"
    }
   ],
   "source": [
    "df.head(5)"
   ]
  },
  {
   "cell_type": "code",
   "execution_count": 72,
   "metadata": {},
   "outputs": [
    {
     "data": {
      "text/html": [
       "<div>\n",
       "<style scoped>\n",
       "    .dataframe tbody tr th:only-of-type {\n",
       "        vertical-align: middle;\n",
       "    }\n",
       "\n",
       "    .dataframe tbody tr th {\n",
       "        vertical-align: top;\n",
       "    }\n",
       "\n",
       "    .dataframe thead th {\n",
       "        text-align: right;\n",
       "    }\n",
       "</style>\n",
       "<table border=\"1\" class=\"dataframe\">\n",
       "  <thead>\n",
       "    <tr style=\"text-align: right;\">\n",
       "      <th></th>\n",
       "      <th>Date</th>\n",
       "      <th>Open</th>\n",
       "      <th>High</th>\n",
       "      <th>Low</th>\n",
       "      <th>Close</th>\n",
       "      <th>Adj Close</th>\n",
       "      <th>Volume</th>\n",
       "    </tr>\n",
       "  </thead>\n",
       "  <tbody>\n",
       "    <tr>\n",
       "      <th>26</th>\n",
       "      <td>2022-11-25</td>\n",
       "      <td>18528.449219</td>\n",
       "      <td>18534.900391</td>\n",
       "      <td>18445.099609</td>\n",
       "      <td>18512.750000</td>\n",
       "      <td>18512.750000</td>\n",
       "      <td>205900</td>\n",
       "    </tr>\n",
       "    <tr>\n",
       "      <th>27</th>\n",
       "      <td>2022-11-28</td>\n",
       "      <td>18430.550781</td>\n",
       "      <td>18614.250000</td>\n",
       "      <td>18365.599609</td>\n",
       "      <td>18562.750000</td>\n",
       "      <td>18562.750000</td>\n",
       "      <td>206500</td>\n",
       "    </tr>\n",
       "    <tr>\n",
       "      <th>28</th>\n",
       "      <td>2022-11-29</td>\n",
       "      <td>18552.449219</td>\n",
       "      <td>18678.099609</td>\n",
       "      <td>18552.150391</td>\n",
       "      <td>18618.050781</td>\n",
       "      <td>18618.050781</td>\n",
       "      <td>195300</td>\n",
       "    </tr>\n",
       "    <tr>\n",
       "      <th>29</th>\n",
       "      <td>2022-11-30</td>\n",
       "      <td>18625.699219</td>\n",
       "      <td>18816.050781</td>\n",
       "      <td>18616.550781</td>\n",
       "      <td>18758.349609</td>\n",
       "      <td>18758.349609</td>\n",
       "      <td>345600</td>\n",
       "    </tr>\n",
       "    <tr>\n",
       "      <th>30</th>\n",
       "      <td>2022-12-01</td>\n",
       "      <td>18871.949219</td>\n",
       "      <td>18887.599609</td>\n",
       "      <td>18778.199219</td>\n",
       "      <td>18812.500000</td>\n",
       "      <td>18812.500000</td>\n",
       "      <td>325000</td>\n",
       "    </tr>\n",
       "  </tbody>\n",
       "</table>\n",
       "</div>"
      ],
      "text/plain": [
       "          Date          Open          High           Low         Close  \\\n",
       "26  2022-11-25  18528.449219  18534.900391  18445.099609  18512.750000   \n",
       "27  2022-11-28  18430.550781  18614.250000  18365.599609  18562.750000   \n",
       "28  2022-11-29  18552.449219  18678.099609  18552.150391  18618.050781   \n",
       "29  2022-11-30  18625.699219  18816.050781  18616.550781  18758.349609   \n",
       "30  2022-12-01  18871.949219  18887.599609  18778.199219  18812.500000   \n",
       "\n",
       "       Adj Close  Volume  \n",
       "26  18512.750000  205900  \n",
       "27  18562.750000  206500  \n",
       "28  18618.050781  195300  \n",
       "29  18758.349609  345600  \n",
       "30  18812.500000  325000  "
      ]
     },
     "execution_count": 72,
     "metadata": {},
     "output_type": "execute_result"
    }
   ],
   "source": [
    "df.tail()"
   ]
  },
  {
   "cell_type": "markdown",
   "metadata": {},
   "source": [
    "#### *Prediction using SVR*"
   ]
  },
  {
   "cell_type": "code",
   "execution_count": 73,
   "metadata": {
    "execution": {
     "iopub.status.busy": "2022-01-09T22:16:39.067884Z",
     "iopub.status.idle": "2022-01-09T22:16:39.06838Z",
     "shell.execute_reply": "2022-01-09T22:16:39.068104Z",
     "shell.execute_reply.started": "2022-01-09T22:16:39.068084Z"
    },
    "scrolled": true
   },
   "outputs": [
    {
     "data": {
      "text/html": [
       "<div>\n",
       "<style scoped>\n",
       "    .dataframe tbody tr th:only-of-type {\n",
       "        vertical-align: middle;\n",
       "    }\n",
       "\n",
       "    .dataframe tbody tr th {\n",
       "        vertical-align: top;\n",
       "    }\n",
       "\n",
       "    .dataframe thead th {\n",
       "        text-align: right;\n",
       "    }\n",
       "</style>\n",
       "<table border=\"1\" class=\"dataframe\">\n",
       "  <thead>\n",
       "    <tr style=\"text-align: right;\">\n",
       "      <th></th>\n",
       "      <th>Date</th>\n",
       "      <th>Open</th>\n",
       "      <th>High</th>\n",
       "      <th>Low</th>\n",
       "      <th>Close</th>\n",
       "      <th>Adj Close</th>\n",
       "      <th>Volume</th>\n",
       "    </tr>\n",
       "  </thead>\n",
       "  <tbody>\n",
       "    <tr>\n",
       "      <th>9</th>\n",
       "      <td>2022-11-01</td>\n",
       "      <td>18130.699219</td>\n",
       "      <td>18175.800781</td>\n",
       "      <td>18060.150391</td>\n",
       "      <td>18145.400391</td>\n",
       "      <td>18145.400391</td>\n",
       "      <td>349900</td>\n",
       "    </tr>\n",
       "    <tr>\n",
       "      <th>10</th>\n",
       "      <td>2022-11-02</td>\n",
       "      <td>18177.900391</td>\n",
       "      <td>18178.750000</td>\n",
       "      <td>18048.650391</td>\n",
       "      <td>18082.849609</td>\n",
       "      <td>18082.849609</td>\n",
       "      <td>270900</td>\n",
       "    </tr>\n",
       "    <tr>\n",
       "      <th>11</th>\n",
       "      <td>2022-11-03</td>\n",
       "      <td>17968.349609</td>\n",
       "      <td>18106.300781</td>\n",
       "      <td>17959.199219</td>\n",
       "      <td>18052.699219</td>\n",
       "      <td>18052.699219</td>\n",
       "      <td>213000</td>\n",
       "    </tr>\n",
       "    <tr>\n",
       "      <th>12</th>\n",
       "      <td>2022-11-04</td>\n",
       "      <td>18053.400391</td>\n",
       "      <td>18135.099609</td>\n",
       "      <td>18017.150391</td>\n",
       "      <td>18117.150391</td>\n",
       "      <td>18117.150391</td>\n",
       "      <td>267900</td>\n",
       "    </tr>\n",
       "    <tr>\n",
       "      <th>13</th>\n",
       "      <td>2022-11-07</td>\n",
       "      <td>18211.750000</td>\n",
       "      <td>18255.500000</td>\n",
       "      <td>18064.750000</td>\n",
       "      <td>18202.800781</td>\n",
       "      <td>18202.800781</td>\n",
       "      <td>314800</td>\n",
       "    </tr>\n",
       "    <tr>\n",
       "      <th>14</th>\n",
       "      <td>2022-11-09</td>\n",
       "      <td>18288.250000</td>\n",
       "      <td>18296.400391</td>\n",
       "      <td>18117.500000</td>\n",
       "      <td>18157.000000</td>\n",
       "      <td>18157.000000</td>\n",
       "      <td>307200</td>\n",
       "    </tr>\n",
       "    <tr>\n",
       "      <th>15</th>\n",
       "      <td>2022-11-10</td>\n",
       "      <td>18044.349609</td>\n",
       "      <td>18103.099609</td>\n",
       "      <td>17969.400391</td>\n",
       "      <td>18028.199219</td>\n",
       "      <td>18028.199219</td>\n",
       "      <td>256500</td>\n",
       "    </tr>\n",
       "    <tr>\n",
       "      <th>16</th>\n",
       "      <td>2022-11-11</td>\n",
       "      <td>18272.349609</td>\n",
       "      <td>18362.300781</td>\n",
       "      <td>18259.349609</td>\n",
       "      <td>18349.699219</td>\n",
       "      <td>18349.699219</td>\n",
       "      <td>378500</td>\n",
       "    </tr>\n",
       "    <tr>\n",
       "      <th>17</th>\n",
       "      <td>2022-11-14</td>\n",
       "      <td>18376.400391</td>\n",
       "      <td>18399.449219</td>\n",
       "      <td>18311.400391</td>\n",
       "      <td>18329.150391</td>\n",
       "      <td>18329.150391</td>\n",
       "      <td>301400</td>\n",
       "    </tr>\n",
       "    <tr>\n",
       "      <th>18</th>\n",
       "      <td>2022-11-15</td>\n",
       "      <td>18362.750000</td>\n",
       "      <td>18427.949219</td>\n",
       "      <td>18282.000000</td>\n",
       "      <td>18403.400391</td>\n",
       "      <td>18403.400391</td>\n",
       "      <td>250900</td>\n",
       "    </tr>\n",
       "    <tr>\n",
       "      <th>19</th>\n",
       "      <td>2022-11-16</td>\n",
       "      <td>18398.250000</td>\n",
       "      <td>18442.150391</td>\n",
       "      <td>18344.150391</td>\n",
       "      <td>18409.650391</td>\n",
       "      <td>18409.650391</td>\n",
       "      <td>219300</td>\n",
       "    </tr>\n",
       "    <tr>\n",
       "      <th>20</th>\n",
       "      <td>2022-11-17</td>\n",
       "      <td>18358.699219</td>\n",
       "      <td>18417.599609</td>\n",
       "      <td>18312.949219</td>\n",
       "      <td>18343.900391</td>\n",
       "      <td>18343.900391</td>\n",
       "      <td>200500</td>\n",
       "    </tr>\n",
       "    <tr>\n",
       "      <th>21</th>\n",
       "      <td>2022-11-18</td>\n",
       "      <td>18382.949219</td>\n",
       "      <td>18394.599609</td>\n",
       "      <td>18209.800781</td>\n",
       "      <td>18307.650391</td>\n",
       "      <td>18307.650391</td>\n",
       "      <td>198800</td>\n",
       "    </tr>\n",
       "    <tr>\n",
       "      <th>22</th>\n",
       "      <td>2022-11-21</td>\n",
       "      <td>18246.400391</td>\n",
       "      <td>18262.300781</td>\n",
       "      <td>18133.349609</td>\n",
       "      <td>18159.949219</td>\n",
       "      <td>18159.949219</td>\n",
       "      <td>213800</td>\n",
       "    </tr>\n",
       "    <tr>\n",
       "      <th>23</th>\n",
       "      <td>2022-11-22</td>\n",
       "      <td>18179.150391</td>\n",
       "      <td>18261.849609</td>\n",
       "      <td>18137.699219</td>\n",
       "      <td>18244.199219</td>\n",
       "      <td>18244.199219</td>\n",
       "      <td>177700</td>\n",
       "    </tr>\n",
       "    <tr>\n",
       "      <th>24</th>\n",
       "      <td>2022-11-23</td>\n",
       "      <td>18325.199219</td>\n",
       "      <td>18325.400391</td>\n",
       "      <td>18246.000000</td>\n",
       "      <td>18267.250000</td>\n",
       "      <td>18267.250000</td>\n",
       "      <td>178800</td>\n",
       "    </tr>\n",
       "    <tr>\n",
       "      <th>25</th>\n",
       "      <td>2022-11-24</td>\n",
       "      <td>18326.099609</td>\n",
       "      <td>18529.699219</td>\n",
       "      <td>18294.250000</td>\n",
       "      <td>18484.099609</td>\n",
       "      <td>18484.099609</td>\n",
       "      <td>204000</td>\n",
       "    </tr>\n",
       "    <tr>\n",
       "      <th>26</th>\n",
       "      <td>2022-11-25</td>\n",
       "      <td>18528.449219</td>\n",
       "      <td>18534.900391</td>\n",
       "      <td>18445.099609</td>\n",
       "      <td>18512.750000</td>\n",
       "      <td>18512.750000</td>\n",
       "      <td>205900</td>\n",
       "    </tr>\n",
       "    <tr>\n",
       "      <th>27</th>\n",
       "      <td>2022-11-28</td>\n",
       "      <td>18430.550781</td>\n",
       "      <td>18614.250000</td>\n",
       "      <td>18365.599609</td>\n",
       "      <td>18562.750000</td>\n",
       "      <td>18562.750000</td>\n",
       "      <td>206500</td>\n",
       "    </tr>\n",
       "    <tr>\n",
       "      <th>28</th>\n",
       "      <td>2022-11-29</td>\n",
       "      <td>18552.449219</td>\n",
       "      <td>18678.099609</td>\n",
       "      <td>18552.150391</td>\n",
       "      <td>18618.050781</td>\n",
       "      <td>18618.050781</td>\n",
       "      <td>195300</td>\n",
       "    </tr>\n",
       "    <tr>\n",
       "      <th>29</th>\n",
       "      <td>2022-11-30</td>\n",
       "      <td>18625.699219</td>\n",
       "      <td>18816.050781</td>\n",
       "      <td>18616.550781</td>\n",
       "      <td>18758.349609</td>\n",
       "      <td>18758.349609</td>\n",
       "      <td>345600</td>\n",
       "    </tr>\n",
       "  </tbody>\n",
       "</table>\n",
       "</div>"
      ],
      "text/plain": [
       "          Date          Open          High           Low         Close  \\\n",
       "9   2022-11-01  18130.699219  18175.800781  18060.150391  18145.400391   \n",
       "10  2022-11-02  18177.900391  18178.750000  18048.650391  18082.849609   \n",
       "11  2022-11-03  17968.349609  18106.300781  17959.199219  18052.699219   \n",
       "12  2022-11-04  18053.400391  18135.099609  18017.150391  18117.150391   \n",
       "13  2022-11-07  18211.750000  18255.500000  18064.750000  18202.800781   \n",
       "14  2022-11-09  18288.250000  18296.400391  18117.500000  18157.000000   \n",
       "15  2022-11-10  18044.349609  18103.099609  17969.400391  18028.199219   \n",
       "16  2022-11-11  18272.349609  18362.300781  18259.349609  18349.699219   \n",
       "17  2022-11-14  18376.400391  18399.449219  18311.400391  18329.150391   \n",
       "18  2022-11-15  18362.750000  18427.949219  18282.000000  18403.400391   \n",
       "19  2022-11-16  18398.250000  18442.150391  18344.150391  18409.650391   \n",
       "20  2022-11-17  18358.699219  18417.599609  18312.949219  18343.900391   \n",
       "21  2022-11-18  18382.949219  18394.599609  18209.800781  18307.650391   \n",
       "22  2022-11-21  18246.400391  18262.300781  18133.349609  18159.949219   \n",
       "23  2022-11-22  18179.150391  18261.849609  18137.699219  18244.199219   \n",
       "24  2022-11-23  18325.199219  18325.400391  18246.000000  18267.250000   \n",
       "25  2022-11-24  18326.099609  18529.699219  18294.250000  18484.099609   \n",
       "26  2022-11-25  18528.449219  18534.900391  18445.099609  18512.750000   \n",
       "27  2022-11-28  18430.550781  18614.250000  18365.599609  18562.750000   \n",
       "28  2022-11-29  18552.449219  18678.099609  18552.150391  18618.050781   \n",
       "29  2022-11-30  18625.699219  18816.050781  18616.550781  18758.349609   \n",
       "\n",
       "       Adj Close  Volume  \n",
       "9   18145.400391  349900  \n",
       "10  18082.849609  270900  \n",
       "11  18052.699219  213000  \n",
       "12  18117.150391  267900  \n",
       "13  18202.800781  314800  \n",
       "14  18157.000000  307200  \n",
       "15  18028.199219  256500  \n",
       "16  18349.699219  378500  \n",
       "17  18329.150391  301400  \n",
       "18  18403.400391  250900  \n",
       "19  18409.650391  219300  \n",
       "20  18343.900391  200500  \n",
       "21  18307.650391  198800  \n",
       "22  18159.949219  213800  \n",
       "23  18244.199219  177700  \n",
       "24  18267.250000  178800  \n",
       "25  18484.099609  204000  \n",
       "26  18512.750000  205900  \n",
       "27  18562.750000  206500  \n",
       "28  18618.050781  195300  \n",
       "29  18758.349609  345600  "
      ]
     },
     "execution_count": 73,
     "metadata": {},
     "output_type": "execute_result"
    }
   ],
   "source": [
    "df=df.head(len(df)-1)\n",
    "df"
   ]
  },
  {
   "cell_type": "markdown",
   "metadata": {},
   "source": [
    "#### *extracting days from date for training*"
   ]
  },
  {
   "cell_type": "code",
   "execution_count": 74,
   "metadata": {},
   "outputs": [],
   "source": [
    "days = list()\n",
    "adj_close_prices = list()"
   ]
  },
  {
   "cell_type": "code",
   "execution_count": 75,
   "metadata": {},
   "outputs": [],
   "source": [
    "df_days = df.loc[:, 'Date']\n",
    "df_adj_close = df.loc[:, 'Adj Close']"
   ]
  },
  {
   "cell_type": "code",
   "execution_count": 76,
   "metadata": {},
   "outputs": [
    {
     "data": {
      "text/plain": [
       "9     2022-11-01\n",
       "10    2022-11-02\n",
       "11    2022-11-03\n",
       "12    2022-11-04\n",
       "13    2022-11-07\n",
       "14    2022-11-09\n",
       "15    2022-11-10\n",
       "16    2022-11-11\n",
       "17    2022-11-14\n",
       "18    2022-11-15\n",
       "19    2022-11-16\n",
       "20    2022-11-17\n",
       "21    2022-11-18\n",
       "22    2022-11-21\n",
       "23    2022-11-22\n",
       "24    2022-11-23\n",
       "25    2022-11-24\n",
       "26    2022-11-25\n",
       "27    2022-11-28\n",
       "28    2022-11-29\n",
       "29    2022-11-30\n",
       "Name: Date, dtype: object"
      ]
     },
     "execution_count": 76,
     "metadata": {},
     "output_type": "execute_result"
    }
   ],
   "source": [
    "df_days"
   ]
  },
  {
   "cell_type": "code",
   "execution_count": 77,
   "metadata": {
    "execution": {
     "iopub.status.busy": "2022-01-09T22:16:39.07019Z",
     "iopub.status.idle": "2022-01-09T22:16:39.070743Z",
     "shell.execute_reply": "2022-01-09T22:16:39.070486Z",
     "shell.execute_reply.started": "2022-01-09T22:16:39.070454Z"
    }
   },
   "outputs": [],
   "source": [
    "for day in df_days:\n",
    "    days.append( [int(day.split('-')[2])] )"
   ]
  },
  {
   "cell_type": "code",
   "execution_count": 78,
   "metadata": {},
   "outputs": [
    {
     "data": {
      "text/plain": [
       "[[1],\n",
       " [2],\n",
       " [3],\n",
       " [4],\n",
       " [7],\n",
       " [9],\n",
       " [10],\n",
       " [11],\n",
       " [14],\n",
       " [15],\n",
       " [16],\n",
       " [17],\n",
       " [18],\n",
       " [21],\n",
       " [22],\n",
       " [23],\n",
       " [24],\n",
       " [25],\n",
       " [28],\n",
       " [29],\n",
       " [30]]"
      ]
     },
     "execution_count": 78,
     "metadata": {},
     "output_type": "execute_result"
    }
   ],
   "source": [
    "days"
   ]
  },
  {
   "cell_type": "code",
   "execution_count": 79,
   "metadata": {
    "execution": {
     "iopub.status.busy": "2022-01-09T22:16:39.072725Z",
     "iopub.status.idle": "2022-01-09T22:16:39.073177Z",
     "shell.execute_reply": "2022-01-09T22:16:39.073007Z",
     "shell.execute_reply.started": "2022-01-09T22:16:39.072987Z"
    }
   },
   "outputs": [],
   "source": [
    "for adj_close_price in df_adj_close:\n",
    "    adj_close_prices.append( float(adj_close_price) )"
   ]
  },
  {
   "cell_type": "code",
   "execution_count": 80,
   "metadata": {},
   "outputs": [
    {
     "data": {
      "text/plain": [
       "[18145.400391,\n",
       " 18082.849609,\n",
       " 18052.699219,\n",
       " 18117.150391,\n",
       " 18202.800781,\n",
       " 18157.0,\n",
       " 18028.199219,\n",
       " 18349.699219,\n",
       " 18329.150391,\n",
       " 18403.400391,\n",
       " 18409.650391,\n",
       " 18343.900391,\n",
       " 18307.650391,\n",
       " 18159.949219,\n",
       " 18244.199219,\n",
       " 18267.25,\n",
       " 18484.099609,\n",
       " 18512.75,\n",
       " 18562.75,\n",
       " 18618.050781,\n",
       " 18758.349609]"
      ]
     },
     "execution_count": 80,
     "metadata": {},
     "output_type": "execute_result"
    }
   ],
   "source": [
    "adj_close_prices"
   ]
  },
  {
   "cell_type": "markdown",
   "metadata": {},
   "source": [
    "#### *Fitting data to the different types of SVR algorithm (linear,polynomial and rdf)*"
   ]
  },
  {
   "cell_type": "code",
   "execution_count": 81,
   "metadata": {
    "execution": {
     "iopub.status.busy": "2022-01-09T22:16:39.074063Z",
     "iopub.status.idle": "2022-01-09T22:16:39.074382Z",
     "shell.execute_reply": "2022-01-09T22:16:39.074226Z",
     "shell.execute_reply.started": "2022-01-09T22:16:39.07421Z"
    }
   },
   "outputs": [
    {
     "data": {
      "text/plain": [
       "SVR(C=1000.0, gamma=0.15)"
      ]
     },
     "execution_count": 81,
     "metadata": {},
     "output_type": "execute_result"
    }
   ],
   "source": [
    "lin_svr = SVR(kernel='linear', C=1000.0)\n",
    "lin_svr.fit(days,adj_close_prices)\n",
    "poly_svr = SVR(kernel='poly', C=1000.0, degree=2)\n",
    "poly_svr.fit(days, adj_close_prices)\n",
    "rbf_svr = SVR(kernel='rbf', C=1000.0, gamma=0.15)\n",
    "rbf_svr.fit(days, adj_close_prices)"
   ]
  },
  {
   "cell_type": "markdown",
   "metadata": {},
   "source": [
    "#### *Comparing actual price with predicted price*"
   ]
  },
  {
   "cell_type": "code",
   "execution_count": 82,
   "metadata": {
    "execution": {
     "iopub.status.busy": "2022-01-09T22:16:39.076255Z",
     "iopub.status.idle": "2022-01-09T22:16:39.076621Z",
     "shell.execute_reply": "2022-01-09T22:16:39.076456Z",
     "shell.execute_reply.started": "2022-01-09T22:16:39.076428Z"
    }
   },
   "outputs": [
    {
     "data": {
      "image/png": "[encoded data removed]",
      "text/plain": [
       "<Figure size 864x432 with 1 Axes>"
      ]
     },
     "metadata": {},
     "output_type": "display_data"
    }
   ],
   "source": [
    "plt.figure(figsize=(12,6))\n",
    "plt.scatter(days, adj_close_prices, color = 'black', label='Original Data')\n",
    "plt.plot(days, rbf_svr.predict(days), color = 'green', label='RBF Model')\n",
    "plt.plot(days, poly_svr.predict(days), color = 'orange', label='Polynomial Model')\n",
    "plt.plot(days, lin_svr.predict(days), color = 'purple', label='Linear Model')\n",
    "plt.xlabel('Days')\n",
    "plt.ylabel('Adj Close Price')\n",
    "plt.title('Support Vector Regression')\n",
    "plt.legend()\n",
    "plt.show()"
   ]
  },
  {
   "cell_type": "markdown",
   "metadata": {},
   "source": [
    "#### *Predicting the stock price for day 30*"
   ]
  },
  {
   "cell_type": "code",
   "execution_count": 83,
   "metadata": {
    "execution": {
     "iopub.status.busy": "2022-01-09T22:16:39.077797Z",
     "iopub.status.idle": "2022-01-09T22:16:39.078159Z",
     "shell.execute_reply": "2022-01-09T22:16:39.078012Z",
     "shell.execute_reply.started": "2022-01-09T22:16:39.077995Z"
    }
   },
   "outputs": [
    {
     "name": "stdout",
     "output_type": "stream",
     "text": [
      "The RBF SVR predicted: [18758.24956082]\n",
      "The Linear SVR predicted: [18599.5654147]\n",
      "The Polynomial SVR predicted: [18653.57095153]\n"
     ]
    }
   ],
   "source": [
    "day=[[30]]\n",
    "print('The RBF SVR predicted:',rbf_svr.predict(day ))\n",
    "print('The Linear SVR predicted:', lin_svr.predict(day))\n",
    "print('The Polynomial SVR predicted:', poly_svr.predict(day))"
   ]
  }
 ],
 "metadata": {
  "kernelspec": {
   "display_name": "Python 3 (ipykernel)",
   "language": "python",
   "name": "python3"
  },
  "language_info": {
   "codemirror_mode": {
    "name": "ipython",
    "version": 3
   },
   "file_extension": ".py",
   "mimetype": "text/x-python",
   "name": "python",
   "nbconvert_exporter": "python",
   "pygments_lexer": "ipython3",
   "version": "3.9.12"
  }
 },
 "nbformat": 4,
 "nbformat_minor": 4
}
