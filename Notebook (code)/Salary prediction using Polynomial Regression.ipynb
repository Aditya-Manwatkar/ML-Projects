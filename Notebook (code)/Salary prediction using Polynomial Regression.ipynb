{
 "cells": [
  {
   "cell_type": "markdown",
   "id": "25459799",
   "metadata": {},
   "source": [
    
    "## Salary prediction using Polynomial Regression"
   ]
  },
  {
   "cell_type": "markdown",
   "id": "45016b7f",
   "metadata": {},
   "source": [
    "#### importing Libraries"
   ]
  },
  {
   "cell_type": "code",
   "execution_count": 1,
   "id": "2a22b613",
   "metadata": {},
   "outputs": [],
   "source": [
    "import numpy as np\n",
    "import pandas as pd\n",
    "import matplotlib.pyplot as plt"
   ]
  },
  {
   "cell_type": "markdown",
   "id": "934c2e3f",
   "metadata": {},
   "source": [
    "#### importing dataset"
   ]
  },
  {
   "cell_type": "code",
   "execution_count": 4,
   "id": "6ee677cc",
   "metadata": {},
   "outputs": [
    {
     "data": {
      "text/html": [
       "<div>\n",
       "<style scoped>\n",
       "    .dataframe tbody tr th:only-of-type {\n",
       "        vertical-align: middle;\n",
       "    }\n",
       "\n",
       "    .dataframe tbody tr th {\n",
       "        vertical-align: top;\n",
       "    }\n",
       "\n",
       "    .dataframe thead th {\n",
       "        text-align: right;\n",
       "    }\n",
       "</style>\n",
       "<table border=\"1\" class=\"dataframe\">\n",
       "  <thead>\n",
       "    <tr style=\"text-align: right;\">\n",
       "      <th></th>\n",
       "      <th>Position</th>\n",
       "      <th>Level</th>\n",
       "      <th>Salary</th>\n",
       "    </tr>\n",
       "  </thead>\n",
       "  <tbody>\n",
       "    <tr>\n",
       "      <th>0</th>\n",
       "      <td>Business Analyst</td>\n",
       "      <td>1</td>\n",
       "      <td>45000</td>\n",
       "    </tr>\n",
       "    <tr>\n",
       "      <th>1</th>\n",
       "      <td>Junior consultant</td>\n",
       "      <td>2</td>\n",
       "      <td>50000</td>\n",
       "    </tr>\n",
       "    <tr>\n",
       "      <th>2</th>\n",
       "      <td>Senior consultant</td>\n",
       "      <td>3</td>\n",
       "      <td>60000</td>\n",
       "    </tr>\n",
       "    <tr>\n",
       "      <th>3</th>\n",
       "      <td>Manager</td>\n",
       "      <td>4</td>\n",
       "      <td>80000</td>\n",
       "    </tr>\n",
       "    <tr>\n",
       "      <th>4</th>\n",
       "      <td>Country Manager</td>\n",
       "      <td>5</td>\n",
       "      <td>110000</td>\n",
       "    </tr>\n",
       "    <tr>\n",
       "      <th>5</th>\n",
       "      <td>Region Manager</td>\n",
       "      <td>6</td>\n",
       "      <td>150000</td>\n",
       "    </tr>\n",
       "    <tr>\n",
       "      <th>6</th>\n",
       "      <td>Partner</td>\n",
       "      <td>7</td>\n",
       "      <td>200000</td>\n",
       "    </tr>\n",
       "    <tr>\n",
       "      <th>7</th>\n",
       "      <td>Senior Partner</td>\n",
       "      <td>8</td>\n",
       "      <td>300000</td>\n",
       "    </tr>\n",
       "    <tr>\n",
       "      <th>8</th>\n",
       "      <td>C-level</td>\n",
       "      <td>9</td>\n",
       "      <td>500000</td>\n",
       "    </tr>\n",
       "    <tr>\n",
       "      <th>9</th>\n",
       "      <td>CEO</td>\n",
       "      <td>10</td>\n",
       "      <td>1000000</td>\n",
       "    </tr>\n",
       "  </tbody>\n",
       "</table>\n",
       "</div>"
      ],
      "text/plain": [
       "            Position  Level   Salary\n",
       "0   Business Analyst      1    45000\n",
       "1  Junior consultant      2    50000\n",
       "2  Senior consultant      3    60000\n",
       "3            Manager      4    80000\n",
       "4    Country Manager      5   110000\n",
       "5     Region Manager      6   150000\n",
       "6            Partner      7   200000\n",
       "7     Senior Partner      8   300000\n",
       "8            C-level      9   500000\n",
       "9                CEO     10  1000000"
      ]
     },
     "execution_count": 4,
     "metadata": {},
     "output_type": "execute_result"
    }
   ],
   "source": [
    "data=pd.read_csv(\"Position_salaries.csv\")\n",
    "data"
   ]
  },
  {
   "cell_type": "markdown",
   "id": "caecaa7d",
   "metadata": {},
   "source": [
    "## \n",
    "## \n",
    "### \n",
    "#### \n",
    "#### Extracting Independent and Dependent variables"
   ]
  },
  {
   "cell_type": "code",
   "execution_count": 32,
   "id": "3258bf21",
   "metadata": {},
   "outputs": [
    {
     "name": "stdout",
     "output_type": "stream",
     "text": [
      "[[ 1]\n",
      " [ 2]\n",
      " [ 3]\n",
      " [ 4]\n",
      " [ 5]\n",
      " [ 6]\n",
      " [ 7]\n",
      " [ 8]\n",
      " [ 9]\n",
      " [10]]\n"
     ]
    },
    {
     "data": {
      "text/plain": [
       "array([  45000,   50000,   60000,   80000,  110000,  150000,  200000,\n",
       "        300000,  500000, 1000000], dtype=int64)"
      ]
     },
     "execution_count": 32,
     "metadata": {},
     "output_type": "execute_result"
    }
   ],
   "source": [
    "X=data.iloc[:,1:2].values\n",
    "Y=data.iloc[:,-1].values\n",
    "print(X)\n",
    "Y"
   ]
  },
  {
   "cell_type": "markdown",
   "id": "67d0159d",
   "metadata": {},
   "source": [
    "#### Fitting linear regression to the dataset"
   ]
  },
  {
   "cell_type": "code",
   "execution_count": 15,
   "id": "59627180",
   "metadata": {},
   "outputs": [
    {
     "data": {
      "text/plain": [
       "LinearRegression()"
      ]
     },
     "execution_count": 15,
     "metadata": {},
     "output_type": "execute_result"
    }
   ],
   "source": [
    "from sklearn.linear_model import LinearRegression\n",
    "LR_model=LinearRegression()\n",
    "LR_model.fit(X,Y)"
   ]
  },
  {
   "cell_type": "markdown",
   "id": "bd7e29e1",
   "metadata": {},
   "source": [
    "#### Fitting Polynomial Regression to the dataset"
   ]
  },
  {
   "cell_type": "code",
   "execution_count": 16,
   "id": "608450d5",
   "metadata": {},
   "outputs": [
    {
     "data": {
      "text/plain": [
       "LinearRegression()"
      ]
     },
     "execution_count": 16,
     "metadata": {},
     "output_type": "execute_result"
    }
   ],
   "source": [
    "from sklearn.preprocessing import PolynomialFeatures\n",
    "PLR=PolynomialFeatures(degree=4)\n",
    "X_poly=PLR.fit_transform(X)\n",
    "LR2=LinearRegression()\n",
    "LR2.fit(X_poly,Y)"
   ]
  },
  {
   "cell_type": "markdown",
   "id": "18fd248c",
   "metadata": {},
   "source": [
    "## \n",
    "###  \n",
    "#### \n",
    "####  visualizing the result for linear regression model"
   ]
  },
  {
   "cell_type": "code",
   "execution_count": 19,
   "id": "41e1f3e2",
   "metadata": {},
   "outputs": [
    {
     "data": {
      "image/png": "[encoded data removed]",
      "text/plain": [
       "<Figure size 432x288 with 1 Axes>"
      ]
     },
     "metadata": {
      "needs_background": "light"
     },
     "output_type": "display_data"
    }
   ],
   "source": [
    "plt.scatter(X,Y,color=\"blue\",marker=\"*\")\n",
    "plt.plot(X,LR_model.predict(X),color=\"red\")\n",
    "plt.title(\"Linear Regression\")\n",
    "plt.xlabel(\"Position level\")\n",
    "plt.ylabel(\"Salary\")\n",
    "plt.show()"
   ]
  },
  {
   "cell_type": "markdown",
   "id": "6d819779",
   "metadata": {},
   "source": [
    "#### visualizing the result for polynomial Regression"
   ]
  },
  {
   "cell_type": "code",
   "execution_count": 23,
   "id": "7ce4adae",
   "metadata": {},
   "outputs": [
    {
     "data": {
      "image/png": "[encoded data removed]",
      "text/plain": [
       "<Figure size 432x288 with 1 Axes>"
      ]
     },
     "metadata": {
      "needs_background": "light"
     },
     "output_type": "display_data"
    }
   ],
   "source": [
    "plt.scatter(X,Y,color=\"blue\",marker=\"*\")\n",
    "plt.plot(X,LR2.predict(X_poly),color=\"red\")\n",
    "#plt.plot(X,LR2.predict(PLR.fit_transform(X)),color=\"red\")\n",
    "plt.title(\"Polynomial Regression\")\n",
    "plt.xlabel(\"Position Levels\")\n",
    "plt.ylabel(\"Salary\")\n",
    "plt.show()"
   ]
  },
  {
   "cell_type": "markdown",
   "id": "92b24cf0",
   "metadata": {},
   "source": [
    "#### predicting the final result with the linear regression model"
   ]
  },
  {
   "cell_type": "code",
   "execution_count": 29,
   "id": "df2b10a4",
   "metadata": {},
   "outputs": [
    {
     "name": "stdout",
     "output_type": "stream",
     "text": [
      "[330378.78787879]\n",
      "The predicted value for  6.5  level using Linear Regression is  330378.78787878784\n"
     ]
    }
   ],
   "source": [
    "x1=6.5\n",
    "LR_predict=LR_model.predict([[x1]])\n",
    "print(LR_predict)\n",
    "print(\"The predicted value for \",x1,\" level using Linear Regression is \",LR_predict[0])"
   ]
  },
  {
   "cell_type": "markdown",
   "id": "45f2572d",
   "metadata": {},
   "source": [
    "#### predicting the final result with polynomial regression model"
   ]
  },
  {
   "cell_type": "code",
   "execution_count": 28,
   "id": "7e40ee3d",
   "metadata": {},
   "outputs": [
    {
     "name": "stdout",
     "output_type": "stream",
     "text": [
      "[158862.45265157]\n",
      "The predicted value for  6.5  level using Polynomial Regression is  158862.45265157335\n"
     ]
    }
   ],
   "source": [
    "PLR_predict=LR2.predict(PLR.fit_transform([[6.5]]))\n",
    "print(PLR_predict)\n",
    "print(\"The predicted value for \",x1,\" level using Polynomial Regression is \",PLR_predict[0])"
   ]
  }
 ],
 "metadata": {
  "kernelspec": {
   "display_name": "Python 3 (ipykernel)",
   "language": "python",
   "name": "python3"
  },
  "language_info": {
   "codemirror_mode": {
    "name": "ipython",
    "version": 3
   },
   "file_extension": ".py",
   "mimetype": "text/x-python",
   "name": "python",
   "nbconvert_exporter": "python",
   "pygments_lexer": "ipython3",
   "version": "3.9.12"
  }
 },
 "nbformat": 4,
 "nbformat_minor": 5
}
