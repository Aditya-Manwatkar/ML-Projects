{
 "cells": [
  {
   "cell_type": "markdown",
   "metadata": {
    "id": "I1VRs4tZkbvW"
   },
   "source": [
    "### Practical No. 1 (b)\n",
    "#### Aim:\n",
    "# Exam mark prediction using Linear Regression-multipleVariable"
   ]
  },
  {
   "cell_type": "markdown",
   "metadata": {
    "id": "SAFLqwkKk8rK"
   },
   "source": [
    "### *Import Libraries*"
   ]
  },
  {
   "cell_type": "code",
   "execution_count": 34,
   "metadata": {
    "id": "EgF2lvr_jzVL"
   },
   "outputs": [],
   "source": [
    "import pandas as pd\n",
    "from sklearn.linear_model import LinearRegression \n",
    "import matplotlib.pyplot as plt\n",
    "import numpy as np"
   ]
  },
  {
   "cell_type": "markdown",
   "metadata": {
    "id": "6gXowmSom462"
   },
   "source": [
    "### *Load Dataset*"
   ]
  },
  {
   "cell_type": "code",
   "execution_count": 35,
   "metadata": {
    "id": "6JLDHSdym6wP"
   },
   "outputs": [],
   "source": [
    "#load dataset\n",
    "data = pd.read_csv('exammark.csv')"
   ]
  },
  {
   "cell_type": "code",
   "execution_count": 36,
   "metadata": {},
   "outputs": [
    {
     "data": {
      "text/plain": [
       "(201, 4)"
      ]
     },
     "execution_count": 36,
     "metadata": {},
     "output_type": "execute_result"
    }
   ],
   "source": [
    "#get the size of data set\n",
    "data.shape"
   ]
  },
  {
   "cell_type": "code",
   "execution_count": 37,
   "metadata": {},
   "outputs": [
    {
     "data": {
      "text/html": [
       "<div>\n",
       "<style scoped>\n",
       "    .dataframe tbody tr th:only-of-type {\n",
       "        vertical-align: middle;\n",
       "    }\n",
       "\n",
       "    .dataframe tbody tr th {\n",
       "        vertical-align: top;\n",
       "    }\n",
       "\n",
       "    .dataframe thead th {\n",
       "        text-align: right;\n",
       "    }\n",
       "</style>\n",
       "<table border=\"1\" class=\"dataframe\">\n",
       "  <thead>\n",
       "    <tr style=\"text-align: right;\">\n",
       "      <th></th>\n",
       "      <th>hours</th>\n",
       "      <th>age</th>\n",
       "      <th>internet</th>\n",
       "      <th>marks</th>\n",
       "    </tr>\n",
       "  </thead>\n",
       "  <tbody>\n",
       "    <tr>\n",
       "      <th>0</th>\n",
       "      <td>NaN</td>\n",
       "      <td>15</td>\n",
       "      <td>1</td>\n",
       "      <td>78.50</td>\n",
       "    </tr>\n",
       "    <tr>\n",
       "      <th>1</th>\n",
       "      <td>6.56</td>\n",
       "      <td>16</td>\n",
       "      <td>0</td>\n",
       "      <td>76.74</td>\n",
       "    </tr>\n",
       "    <tr>\n",
       "      <th>2</th>\n",
       "      <td>8.00</td>\n",
       "      <td>17</td>\n",
       "      <td>1</td>\n",
       "      <td>78.68</td>\n",
       "    </tr>\n",
       "    <tr>\n",
       "      <th>3</th>\n",
       "      <td>5.67</td>\n",
       "      <td>18</td>\n",
       "      <td>0</td>\n",
       "      <td>71.82</td>\n",
       "    </tr>\n",
       "    <tr>\n",
       "      <th>4</th>\n",
       "      <td>8.67</td>\n",
       "      <td>19</td>\n",
       "      <td>1</td>\n",
       "      <td>84.19</td>\n",
       "    </tr>\n",
       "  </tbody>\n",
       "</table>\n",
       "</div>"
      ],
      "text/plain": [
       "   hours  age  internet  marks\n",
       "0    NaN   15         1  78.50\n",
       "1   6.56   16         0  76.74\n",
       "2   8.00   17         1  78.68\n",
       "3   5.67   18         0  71.82\n",
       "4   8.67   19         1  84.19"
      ]
     },
     "execution_count": 37,
     "metadata": {},
     "output_type": "execute_result"
    }
   ],
   "source": [
    "#get first five records in dataset\n",
    "data.head()"
   ]
  },
  {
   "cell_type": "code",
   "execution_count": 38,
   "metadata": {},
   "outputs": [
    {
     "data": {
      "text/html": [
       "<div>\n",
       "<style scoped>\n",
       "    .dataframe tbody tr th:only-of-type {\n",
       "        vertical-align: middle;\n",
       "    }\n",
       "\n",
       "    .dataframe tbody tr th {\n",
       "        vertical-align: top;\n",
       "    }\n",
       "\n",
       "    .dataframe thead th {\n",
       "        text-align: right;\n",
       "    }\n",
       "</style>\n",
       "<table border=\"1\" class=\"dataframe\">\n",
       "  <thead>\n",
       "    <tr style=\"text-align: right;\">\n",
       "      <th></th>\n",
       "      <th>hours</th>\n",
       "      <th>age</th>\n",
       "      <th>internet</th>\n",
       "      <th>marks</th>\n",
       "    </tr>\n",
       "  </thead>\n",
       "  <tbody>\n",
       "    <tr>\n",
       "      <th>196</th>\n",
       "      <td>8.56</td>\n",
       "      <td>19</td>\n",
       "      <td>1</td>\n",
       "      <td>84.68</td>\n",
       "    </tr>\n",
       "    <tr>\n",
       "      <th>197</th>\n",
       "      <td>8.94</td>\n",
       "      <td>20</td>\n",
       "      <td>1</td>\n",
       "      <td>86.75</td>\n",
       "    </tr>\n",
       "    <tr>\n",
       "      <th>198</th>\n",
       "      <td>6.60</td>\n",
       "      <td>15</td>\n",
       "      <td>1</td>\n",
       "      <td>78.05</td>\n",
       "    </tr>\n",
       "    <tr>\n",
       "      <th>199</th>\n",
       "      <td>8.35</td>\n",
       "      <td>16</td>\n",
       "      <td>1</td>\n",
       "      <td>83.50</td>\n",
       "    </tr>\n",
       "    <tr>\n",
       "      <th>200</th>\n",
       "      <td>NaN</td>\n",
       "      <td>15</td>\n",
       "      <td>0</td>\n",
       "      <td>81.45</td>\n",
       "    </tr>\n",
       "  </tbody>\n",
       "</table>\n",
       "</div>"
      ],
      "text/plain": [
       "     hours  age  internet  marks\n",
       "196   8.56   19         1  84.68\n",
       "197   8.94   20         1  86.75\n",
       "198   6.60   15         1  78.05\n",
       "199   8.35   16         1  83.50\n",
       "200    NaN   15         0  81.45"
      ]
     },
     "execution_count": 38,
     "metadata": {},
     "output_type": "execute_result"
    }
   ],
   "source": [
    "#get last five records in dataset\n",
    "data.tail()"
   ]
  },
  {
   "cell_type": "code",
   "execution_count": 39,
   "metadata": {},
   "outputs": [
    {
     "data": {
      "text/html": [
       "<div>\n",
       "<style scoped>\n",
       "    .dataframe tbody tr th:only-of-type {\n",
       "        vertical-align: middle;\n",
       "    }\n",
       "\n",
       "    .dataframe tbody tr th {\n",
       "        vertical-align: top;\n",
       "    }\n",
       "\n",
       "    .dataframe thead th {\n",
       "        text-align: right;\n",
       "    }\n",
       "</style>\n",
       "<table border=\"1\" class=\"dataframe\">\n",
       "  <thead>\n",
       "    <tr style=\"text-align: right;\">\n",
       "      <th></th>\n",
       "      <th>hours</th>\n",
       "      <th>age</th>\n",
       "      <th>internet</th>\n",
       "      <th>marks</th>\n",
       "    </tr>\n",
       "  </thead>\n",
       "  <tbody>\n",
       "    <tr>\n",
       "      <th>count</th>\n",
       "      <td>197.000000</td>\n",
       "      <td>201.000000</td>\n",
       "      <td>201.000000</td>\n",
       "      <td>201.000000</td>\n",
       "    </tr>\n",
       "    <tr>\n",
       "      <th>mean</th>\n",
       "      <td>6.986853</td>\n",
       "      <td>17.467662</td>\n",
       "      <td>0.552239</td>\n",
       "      <td>77.951244</td>\n",
       "    </tr>\n",
       "    <tr>\n",
       "      <th>std</th>\n",
       "      <td>1.555294</td>\n",
       "      <td>1.720523</td>\n",
       "      <td>0.498505</td>\n",
       "      <td>4.919626</td>\n",
       "    </tr>\n",
       "    <tr>\n",
       "      <th>min</th>\n",
       "      <td>0.220000</td>\n",
       "      <td>15.000000</td>\n",
       "      <td>0.000000</td>\n",
       "      <td>68.570000</td>\n",
       "    </tr>\n",
       "    <tr>\n",
       "      <th>25%</th>\n",
       "      <td>5.750000</td>\n",
       "      <td>16.000000</td>\n",
       "      <td>0.000000</td>\n",
       "      <td>73.400000</td>\n",
       "    </tr>\n",
       "    <tr>\n",
       "      <th>50%</th>\n",
       "      <td>7.120000</td>\n",
       "      <td>17.000000</td>\n",
       "      <td>1.000000</td>\n",
       "      <td>77.770000</td>\n",
       "    </tr>\n",
       "    <tr>\n",
       "      <th>75%</th>\n",
       "      <td>8.080000</td>\n",
       "      <td>19.000000</td>\n",
       "      <td>1.000000</td>\n",
       "      <td>82.300000</td>\n",
       "    </tr>\n",
       "    <tr>\n",
       "      <th>max</th>\n",
       "      <td>15.000000</td>\n",
       "      <td>20.000000</td>\n",
       "      <td>1.000000</td>\n",
       "      <td>86.990000</td>\n",
       "    </tr>\n",
       "  </tbody>\n",
       "</table>\n",
       "</div>"
      ],
      "text/plain": [
       "            hours         age    internet       marks\n",
       "count  197.000000  201.000000  201.000000  201.000000\n",
       "mean     6.986853   17.467662    0.552239   77.951244\n",
       "std      1.555294    1.720523    0.498505    4.919626\n",
       "min      0.220000   15.000000    0.000000   68.570000\n",
       "25%      5.750000   16.000000    0.000000   73.400000\n",
       "50%      7.120000   17.000000    1.000000   77.770000\n",
       "75%      8.080000   19.000000    1.000000   82.300000\n",
       "max     15.000000   20.000000    1.000000   86.990000"
      ]
     },
     "execution_count": 39,
     "metadata": {},
     "output_type": "execute_result"
    }
   ],
   "source": [
    "#describing the dataset-max,min,25%,50%,75%,mean,standard deviation\n",
    "data.describe()"
   ]
  },
  {
   "cell_type": "markdown",
   "metadata": {
    "id": "-DdkIy1ZnDfA"
   },
   "source": [
    "### *Load Summarize*"
   ]
  },
  {
   "cell_type": "code",
   "execution_count": 40,
   "metadata": {
    "id": "OlElQViRnGFp"
   },
   "outputs": [
    {
     "name": "stdout",
     "output_type": "stream",
     "text": [
      "(201, 4)\n",
      "   hours  age  internet  marks\n",
      "0    NaN   15         1  78.50\n",
      "1   6.56   16         0  76.74\n",
      "2   8.00   17         1  78.68\n",
      "3   5.67   18         0  71.82\n",
      "4   8.67   19         1  84.19\n"
     ]
    }
   ],
   "source": [
    "print(data.shape)\n",
    "print(data.head(5))"
   ]
  },
  {
   "cell_type": "markdown",
   "metadata": {
    "id": "-Zb9xIa-kOx5"
   },
   "source": [
    "### *Finding & Removing NA values from our Features X*"
   ]
  },
  {
   "cell_type": "code",
   "execution_count": 41,
   "metadata": {
    "id": "UwyBQ5nZkTpf"
   },
   "outputs": [
    {
     "data": {
      "text/plain": [
       "Index(['hours'], dtype='object')"
      ]
     },
     "execution_count": 41,
     "metadata": {},
     "output_type": "execute_result"
    }
   ],
   "source": [
    "data.columns[data.isna().any()]"
   ]
  },
  {
   "cell_type": "code",
   "execution_count": 42,
   "metadata": {
    "id": "8LxSw9aHlJTC"
   },
   "outputs": [],
   "source": [
    "#Repalcing null values in hour column with its mean value  \n",
    "data.hours = data.hours.fillna(data.hours.mean())"
   ]
  },
  {
   "cell_type": "markdown",
   "metadata": {
    "id": "JRyfB6prpJDP"
   },
   "source": [
    "### *Segregate Dataset into Input X & Output Y*"
   ]
  },
  {
   "cell_type": "code",
   "execution_count": 43,
   "metadata": {
    "id": "x9dQcTohpK1X",
    "scrolled": false
   },
   "outputs": [
    {
     "name": "stdout",
     "output_type": "stream",
     "text": [
      "(201, 3)\n",
      "[[ 6.98685279 15.          1.        ]\n",
      " [ 6.56       16.          0.        ]\n",
      " [ 8.         17.          1.        ]\n",
      " [ 5.67       18.          0.        ]\n",
      " [ 8.67       19.          1.        ]\n",
      " [ 7.55       20.          0.        ]\n",
      " [ 6.67       15.          0.        ]\n",
      " [ 8.99       16.          0.        ]\n",
      " [ 5.19       17.          1.        ]\n",
      " [ 6.75       18.          0.        ]\n",
      " [ 6.59       19.          0.        ]\n",
      " [ 8.56       20.          1.        ]\n",
      " [ 7.75       15.          0.        ]\n",
      " [ 7.9        16.          1.        ]\n",
      " [ 8.19       17.          0.        ]\n",
      " [ 6.55       18.          1.        ]\n",
      " [ 6.36       19.          0.        ]\n",
      " [ 8.44       20.          1.        ]\n",
      " [ 8.41       15.          0.        ]\n",
      " [ 7.67       16.          1.        ]\n",
      " [ 7.42       17.          1.        ]\n",
      " [ 8.16       18.          1.        ]\n",
      " [ 5.05       19.          1.        ]\n",
      " [ 5.85       20.          1.        ]\n",
      " [ 5.45       15.          0.        ]\n",
      " [ 7.96       16.          0.        ]\n",
      " [ 6.51       17.          0.        ]\n",
      " [ 6.73       18.          0.        ]\n",
      " [ 5.94       19.          1.        ]\n",
      " [ 7.48       20.          0.        ]\n",
      " [ 8.13       15.          1.        ]\n",
      " [ 8.         16.          1.        ]\n",
      " [ 5.4        17.          1.        ]\n",
      " [ 8.78       18.          0.        ]\n",
      " [ 8.72       19.          1.        ]\n",
      " [ 7.1        20.          0.        ]\n",
      " [ 7.86       15.          1.        ]\n",
      " [ 7.19       16.          0.        ]\n",
      " [ 5.62       17.          1.        ]\n",
      " [ 7.88       18.          0.        ]\n",
      " [ 5.28       19.          1.        ]\n",
      " [ 8.92       20.          1.        ]\n",
      " [ 5.46       15.          0.        ]\n",
      " [ 8.3        16.          1.        ]\n",
      " [ 8.09       17.          0.        ]\n",
      " [ 6.18       18.          1.        ]\n",
      " [ 7.01       19.          1.        ]\n",
      " [ 5.01       20.          0.        ]\n",
      " [ 5.54       15.          1.        ]\n",
      " [ 5.09       16.          1.        ]\n",
      " [ 5.09       17.          0.        ]\n",
      " [ 7.31       18.          1.        ]\n",
      " [ 8.71       19.          0.        ]\n",
      " [ 5.52       20.          1.        ]\n",
      " [ 8.76       15.          0.        ]\n",
      " [ 8.69       16.          1.        ]\n",
      " [ 5.75       17.          1.        ]\n",
      " [ 8.93       18.          1.        ]\n",
      " [ 5.39       19.          1.        ]\n",
      " [ 5.65       20.          0.        ]\n",
      " [ 5.49       15.          1.        ]\n",
      " [ 7.26       16.          1.        ]\n",
      " [ 6.35       17.          0.        ]\n",
      " [ 7.72       18.          1.        ]\n",
      " [ 8.88       19.          0.        ]\n",
      " [ 5.45       20.          1.        ]\n",
      " [ 7.86       15.          1.        ]\n",
      " [ 8.26       16.          0.        ]\n",
      " [ 5.07       17.          1.        ]\n",
      " [ 8.25       18.          0.        ]\n",
      " [ 5.37       19.          1.        ]\n",
      " [ 5.11       20.          1.        ]\n",
      " [ 6.35       15.          0.        ]\n",
      " [ 7.41       16.          1.        ]\n",
      " [ 7.31       17.          0.        ]\n",
      " [ 6.04       18.          1.        ]\n",
      " [ 5.11       19.          1.        ]\n",
      " [ 6.56       20.          0.        ]\n",
      " [ 5.09       15.          1.        ]\n",
      " [ 5.88       16.          0.        ]\n",
      " [ 8.34       17.          1.        ]\n",
      " [ 7.94       18.          0.        ]\n",
      " [ 6.66       19.          1.        ]\n",
      " [ 6.01       20.          1.        ]\n",
      " [ 6.88       15.          0.        ]\n",
      " [ 5.63       16.          1.        ]\n",
      " [ 5.88       17.          0.        ]\n",
      " [ 8.05       18.          1.        ]\n",
      " [ 5.33       19.          0.        ]\n",
      " [ 8.79       20.          0.        ]\n",
      " [ 7.52       15.          1.        ]\n",
      " [ 8.2        16.          0.        ]\n",
      " [ 5.44       17.          1.        ]\n",
      " [ 7.9        18.          0.        ]\n",
      " [ 7.69       19.          1.        ]\n",
      " [ 6.09       20.          0.        ]\n",
      " [12.         15.          1.        ]\n",
      " [ 5.2        16.          1.        ]\n",
      " [ 8.88       17.          0.        ]\n",
      " [ 8.07       18.          1.        ]\n",
      " [ 6.24       19.          1.        ]\n",
      " [ 7.95       20.          0.        ]\n",
      " [ 8.26       15.          0.        ]\n",
      " [ 7.31       16.          1.        ]\n",
      " [ 7.23       17.          1.        ]\n",
      " [ 6.46       18.          1.        ]\n",
      " [ 5.34       19.          1.        ]\n",
      " [ 5.72       20.          1.        ]\n",
      " [ 5.84       15.          0.        ]\n",
      " [ 5.02       16.          1.        ]\n",
      " [ 7.98       17.          0.        ]\n",
      " [ 6.37       18.          1.        ]\n",
      " [ 6.92       19.          0.        ]\n",
      " [ 7.95       20.          1.        ]\n",
      " [ 7.12       15.          0.        ]\n",
      " [ 5.79       16.          1.        ]\n",
      " [ 5.4        17.          0.        ]\n",
      " [ 8.83       18.          1.        ]\n",
      " [ 5.69       19.          0.        ]\n",
      " [ 6.6        20.          1.        ]\n",
      " [ 6.52       15.          0.        ]\n",
      " [ 8.31       16.          0.        ]\n",
      " [15.         17.          1.        ]\n",
      " [ 7.62       18.          0.        ]\n",
      " [ 8.69       19.          1.        ]\n",
      " [ 8.75       20.          0.        ]\n",
      " [ 6.46       15.          1.        ]\n",
      " [ 7.14       16.          1.        ]\n",
      " [ 6.38       17.          0.        ]\n",
      " [ 6.33       18.          1.        ]\n",
      " [ 5.64       19.          0.        ]\n",
      " [ 5.26       20.          1.        ]\n",
      " [ 6.83       15.          1.        ]\n",
      " [ 5.76       16.          0.        ]\n",
      " [ 6.51       17.          1.        ]\n",
      " [ 8.33       18.          0.        ]\n",
      " [ 8.16       19.          1.        ]\n",
      " [ 5.14       20.          0.        ]\n",
      " [ 8.71       15.          0.        ]\n",
      " [ 8.6        16.          1.        ]\n",
      " [ 8.6        17.          0.        ]\n",
      " [ 7.43       18.          1.        ]\n",
      " [ 7.81       19.          1.        ]\n",
      " [ 6.51       20.          0.        ]\n",
      " [ 8.11       15.          1.        ]\n",
      " [ 8.95       16.          0.        ]\n",
      " [ 7.99       17.          1.        ]\n",
      " [ 5.92       18.          0.        ]\n",
      " [ 8.3        19.          1.        ]\n",
      " [ 8.97       20.          0.        ]\n",
      " [ 5.39       15.          0.        ]\n",
      " [ 6.77       16.          0.        ]\n",
      " [ 8.08       17.          1.        ]\n",
      " [ 5.24       18.          0.        ]\n",
      " [ 6.93       19.          1.        ]\n",
      " [ 5.14       20.          0.        ]\n",
      " [ 8.39       15.          1.        ]\n",
      " [ 6.18       16.          0.        ]\n",
      " [ 7.53       17.          1.        ]\n",
      " [ 7.86       18.          0.        ]\n",
      " [ 7.7        19.          1.        ]\n",
      " [ 7.3        20.          0.        ]\n",
      " [ 7.79       15.          1.        ]\n",
      " [ 6.75       16.          0.        ]\n",
      " [ 7.87       17.          1.        ]\n",
      " [ 5.38       18.          0.        ]\n",
      " [ 7.8        19.          1.        ]\n",
      " [ 5.07       20.          0.        ]\n",
      " [ 7.95       15.          1.        ]\n",
      " [ 8.35       16.          0.        ]\n",
      " [ 5.19       17.          0.        ]\n",
      " [ 7.19       18.          0.        ]\n",
      " [ 7.35       19.          1.        ]\n",
      " [ 0.22       20.          1.        ]\n",
      " [ 5.39       15.          1.        ]\n",
      " [ 5.39       16.          1.        ]\n",
      " [ 8.93       17.          1.        ]\n",
      " [ 5.79       18.          0.        ]\n",
      " [ 6.98685279 19.          1.        ]\n",
      " [ 7.26       20.          0.        ]\n",
      " [ 6.97       15.          1.        ]\n",
      " [ 5.55       16.          1.        ]\n",
      " [ 8.66       17.          0.        ]\n",
      " [ 8.61       18.          1.        ]\n",
      " [ 5.22       19.          1.        ]\n",
      " [ 8.05       20.          0.        ]\n",
      " [ 0.87       15.          1.        ]\n",
      " [ 5.54       16.          0.        ]\n",
      " [ 5.         17.          0.        ]\n",
      " [ 7.26       18.          1.        ]\n",
      " [ 5.79       19.          0.        ]\n",
      " [ 5.22       20.          0.        ]\n",
      " [ 8.71       15.          1.        ]\n",
      " [ 6.98685279 16.          1.        ]\n",
      " [ 6.35       17.          1.        ]\n",
      " [ 7.53       18.          0.        ]\n",
      " [ 8.56       19.          1.        ]\n",
      " [ 8.94       20.          1.        ]\n",
      " [ 6.6        15.          1.        ]\n",
      " [ 8.35       16.          1.        ]\n",
      " [ 6.98685279 15.          0.        ]]\n"
     ]
    }
   ],
   "source": [
    "X = data.iloc[:, :-1].values\n",
    "print(X.shape)\n",
    "print(X)"
   ]
  },
  {
   "cell_type": "code",
   "execution_count": 44,
   "metadata": {
    "id": "SqxVaBO0pf1W"
   },
   "outputs": [
    {
     "name": "stdout",
     "output_type": "stream",
     "text": [
      "[78.5  76.74 78.68 71.82 84.19 81.18 76.99 85.46 70.66 77.82 75.37 83.88\n",
      " 79.5  80.76 83.08 76.03 76.04 85.11 82.5  80.58 82.18 83.36 70.67 75.02\n",
      " 70.96 83.33 74.75 75.65 74.15 80.17 82.27 76.14 71.1  84.35 83.08 76.76\n",
      " 81.24 78.21 73.08 83.23 70.27 86.41 71.1  82.84 82.38 72.96 77.46 70.11\n",
      " 72.38 71.41 72.22 77.77 84.44 71.45 82.21 85.48 75.03 86.65 70.9  71.7\n",
      " 73.61 79.41 76.19 80.43 85.78 70.06 81.25 81.7  69.27 82.79 71.8  71.79\n",
      " 74.97 78.61 77.59 72.33 72.08 77.33 70.05 73.34 84.   82.93 76.63 75.36\n",
      " 77.29 72.87 73.4  81.74 71.85 84.6  79.56 82.1  72.08 79.1  81.01 76.48\n",
      " 75.39 68.57 83.64 82.3  75.18 82.03 82.99 79.26 77.55 77.07 72.1  73.25\n",
      " 74.25 70.58 81.08 75.04 76.38 80.86 78.42 74.44 70.34 85.04 73.61 75.55\n",
      " 76.2  82.69 76.83 79.53 83.57 85.95 76.02 77.65 77.01 74.49 73.19 71.86\n",
      " 75.8  72.46 78.39 83.48 83.15 71.22 85.98 83.91 84.58 80.31 82.55 75.52\n",
      " 83.82 85.15 82.75 74.34 82.02 86.12 71.87 76.7  81.7  70.78 78.45 70.2\n",
      " 83.37 75.52 81.57 80.72 80.81 79.49 79.17 77.07 82.04 71.94 81.6  70.79\n",
      " 82.68 83.08 71.18 77.63 77.78 70.4  73.02 71.11 85.96 73.64 84.24 78.17\n",
      " 77.19 71.83 86.99 83.87 71.5  79.63 85.1  72.01 77.27 79.87 73.14 70.51\n",
      " 84.03 79.64 74.24 81.67 84.68 86.75 78.05 83.5  81.45]\n"
     ]
    }
   ],
   "source": [
    "Y = data.iloc[:, -1].values\n",
    "print(Y)"
   ]
  },
  {
   "cell_type": "markdown",
   "metadata": {
    "id": "KsDoGjjbpmjk"
   },
   "source": [
    "### *Training Dataset using Linear Regression*"
   ]
  },
  {
   "cell_type": "code",
   "execution_count": 45,
   "metadata": {
    "id": "nKmEySI1poV_"
   },
   "outputs": [
    {
     "data": {
      "text/plain": [
       "LinearRegression()"
      ]
     },
     "execution_count": 45,
     "metadata": {},
     "output_type": "execute_result"
    }
   ],
   "source": [
    "model = LinearRegression()\n",
    "model.fit(X,Y)"
   ]
  },
  {
   "cell_type": "markdown",
   "metadata": {
    "id": "n-UeFqpGpw9p"
   },
   "source": [
    "# *Predicted marks*"
   ]
  },
  {
   "cell_type": "code",
   "execution_count": 46,
   "metadata": {
    "id": "Ollo3wTcpyKQ"
   },
   "outputs": [
    {
     "name": "stdout",
     "output_type": "stream",
     "text": [
      "[71.39742752]\n"
     ]
    }
   ],
   "source": [
    "a=[[4.25,18,1]]\n",
    "PredictedmodelResult = model.predict(a)\n",
    "print(PredictedmodelResult)\n",
    "b=PredictedmodelResult"
   ]
  },
  {
   "cell_type": "code",
   "execution_count": 47,
   "metadata": {},
   "outputs": [
    {
     "name": "stdout",
     "output_type": "stream",
     "text": [
      "The 18  years old person who studies  4.25  hours a day and having an active internet connection will get  71  marks\n"
     ]
    }
   ],
   "source": [
    "print(\"The\",a[0][1],\" years old person who studies \",a[0][0],\n",
    "      \" hours a day and having an active internet connection will get \"\n",
    "      ,round(b[0]),\" marks\")"
   ]
  },
  {
   "cell_type": "code",
   "execution_count": null,
   "metadata": {},
   "outputs": [],
   "source": []
  }
 ],
 "metadata": {
  "colab": {
   "collapsed_sections": [],
   "name": "12 | Exam mark prediction using Linear Regression.ipynb",
   "provenance": []
  },
  "kernelspec": {
   "display_name": "Python 3 (ipykernel)",
   "language": "python",
   "name": "python3"
  },
  "language_info": {
   "codemirror_mode": {
    "name": "ipython",
    "version": 3
   },
   "file_extension": ".py",
   "mimetype": "text/x-python",
   "name": "python",
   "nbconvert_exporter": "python",
   "pygments_lexer": "ipython3",
   "version": "3.9.12"
  }
 },
 "nbformat": 4,
 "nbformat_minor": 1
}
